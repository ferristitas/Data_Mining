{
  "nbformat": 4,
  "nbformat_minor": 0,
  "metadata": {
    "colab": {
      "provenance": []
    },
    "kernelspec": {
      "name": "python3",
      "display_name": "Python 3"
    },
    "language_info": {
      "name": "python"
    }
  },
  "cells": [
    {
      "cell_type": "code",
      "execution_count": 1,
      "metadata": {
        "id": "hvvncoeewJ7u"
      },
      "outputs": [],
      "source": [
        "import numpy as np\n",
        "import matplotlib.pyplot as plt\n",
        "import pandas as pd"
      ]
    },
    {
      "cell_type": "markdown",
      "source": [
        "- Numpy merupakan library python digunakan untuk komputasi matriks.\n",
        "- Matplotlib merupakan library python digunakan untuk presentasi data berupa grafik atau plot.\n",
        "- Pandas untuk import csv, txt, exel."
      ],
      "metadata": {
        "id": "n5ECKqdMx1p4"
      }
    },
    {
      "cell_type": "code",
      "source": [
        "dataset = pd.read_csv('Data.csv')\n",
        "x = dataset.iloc[:, :-1].values\n",
        "y = dataset.iloc[:, -1].values"
      ],
      "metadata": {
        "id": "6sxBOyDEyLyy"
      },
      "execution_count": 2,
      "outputs": []
    },
    {
      "cell_type": "markdown",
      "source": [
        "- : mengambil semua data\n",
        "- :-1 mengambil semua kecuali yang terakhir"
      ],
      "metadata": {
        "id": "cVKpSaIay1Iw"
      }
    },
    {
      "cell_type": "code",
      "source": [
        "print(x)"
      ],
      "metadata": {
        "colab": {
          "base_uri": "https://localhost:8080/"
        },
        "id": "Q94yUsabzhO9",
        "outputId": "d2710b7e-d6b1-41c5-aa5e-767426e84a00"
      },
      "execution_count": 3,
      "outputs": [
        {
          "output_type": "stream",
          "name": "stdout",
          "text": [
            "[['France' 44.0 72000.0]\n",
            " ['Spain' 27.0 48000.0]\n",
            " ['Germany' 30.0 54000.0]\n",
            " ['Spain' 38.0 61000.0]\n",
            " ['Germany' 40.0 nan]\n",
            " ['France' 35.0 58000.0]\n",
            " ['Spain' nan 52000.0]\n",
            " ['France' 48.0 79000.0]\n",
            " ['Germany' 50.0 83000.0]\n",
            " ['France' 37.0 67000.0]\n",
            " ['France' 45.0 92000.0]\n",
            " ['Spain' 30.0 60000.0]\n",
            " ['Germany' 20.0 64000.0]\n",
            " ['Spain' 28.0 51000.0]\n",
            " ['Germany' 40.0 nan]\n",
            " ['France' 35.0 68000.0]\n",
            " ['Spain' nan 22000.0]\n",
            " ['France' 58.0 67000.0]\n",
            " ['Germany' 50.0 53000.0]\n",
            " ['France' 50.0 47000.0]]\n"
          ]
        }
      ]
    },
    {
      "cell_type": "code",
      "source": [
        "print(y)"
      ],
      "metadata": {
        "colab": {
          "base_uri": "https://localhost:8080/"
        },
        "id": "5e5pXZC26XzX",
        "outputId": "ca5bd2a1-a6e4-4225-f51b-6114f2cb1517"
      },
      "execution_count": 4,
      "outputs": [
        {
          "output_type": "stream",
          "name": "stdout",
          "text": [
            "['No' 'Yes' 'No' 'No' 'Yes' 'Yes' 'No' 'Yes' 'No' 'Yes' 'Yes' 'Yes' 'Yes'\n",
            " 'No' 'Yes' 'No' 'No' 'Yes' 'Yes' 'No']\n"
          ]
        }
      ]
    },
    {
      "cell_type": "code",
      "source": [
        "from sklearn.impute import SimpleImputer\n",
        "imputer = SimpleImputer(missing_values=np.nan, strategy='mean')\n",
        "imputer.fit(x[:, 1:3])\n",
        "x[:, 1:3] = imputer.transform(x[:, 1:3])"
      ],
      "metadata": {
        "id": "PkOcWBuZ6ib4"
      },
      "execution_count": 5,
      "outputs": []
    },
    {
      "cell_type": "markdown",
      "source": [
        "- yang berisi nan diisi mean, bisa modus juga median\n",
        "- harus difitkan disimpan pada variabel x ambil kolom 1-3\n",
        "- lalu transfomkan lalu masukkan variabel x"
      ],
      "metadata": {
        "id": "qdNBxewhAI6q"
      }
    },
    {
      "cell_type": "code",
      "source": [
        "print(x)"
      ],
      "metadata": {
        "colab": {
          "base_uri": "https://localhost:8080/"
        },
        "id": "Yj7713WZAHVL",
        "outputId": "ac912f9c-62a7-441f-f732-8915b39234c5"
      },
      "execution_count": 6,
      "outputs": [
        {
          "output_type": "stream",
          "name": "stdout",
          "text": [
            "[['France' 44.0 72000.0]\n",
            " ['Spain' 27.0 48000.0]\n",
            " ['Germany' 30.0 54000.0]\n",
            " ['Spain' 38.0 61000.0]\n",
            " ['Germany' 40.0 61000.0]\n",
            " ['France' 35.0 58000.0]\n",
            " ['Spain' 39.166666666666664 52000.0]\n",
            " ['France' 48.0 79000.0]\n",
            " ['Germany' 50.0 83000.0]\n",
            " ['France' 37.0 67000.0]\n",
            " ['France' 45.0 92000.0]\n",
            " ['Spain' 30.0 60000.0]\n",
            " ['Germany' 20.0 64000.0]\n",
            " ['Spain' 28.0 51000.0]\n",
            " ['Germany' 40.0 61000.0]\n",
            " ['France' 35.0 68000.0]\n",
            " ['Spain' 39.166666666666664 22000.0]\n",
            " ['France' 58.0 67000.0]\n",
            " ['Germany' 50.0 53000.0]\n",
            " ['France' 50.0 47000.0]]\n"
          ]
        }
      ]
    },
    {
      "cell_type": "code",
      "source": [
        "from sklearn.compose import ColumnTransformer\n",
        "from sklearn.preprocessing import OneHotEncoder\n",
        "ct = ColumnTransformer(transformers=[('encoder', OneHotEncoder(), [0])], remainder='passthrough')\n",
        "x = np.array(ct.fit_transform(x))"
      ],
      "metadata": {
        "id": "2qzJJOkoBRV7"
      },
      "execution_count": 7,
      "outputs": []
    },
    {
      "cell_type": "markdown",
      "source": [
        "- onehot untuk mengubah dalam bentuk nominal jadi matriks dibantu encoder\n",
        "- gunakan encoder 0"
      ],
      "metadata": {
        "id": "_PuvGSrHCFfO"
      }
    },
    {
      "cell_type": "code",
      "source": [
        "print(x)"
      ],
      "metadata": {
        "colab": {
          "base_uri": "https://localhost:8080/"
        },
        "id": "iHpFh5lWC7bH",
        "outputId": "cdbe32ae-7682-41b9-8885-b6dd074a2853"
      },
      "execution_count": 8,
      "outputs": [
        {
          "output_type": "stream",
          "name": "stdout",
          "text": [
            "[[1.0 0.0 0.0 44.0 72000.0]\n",
            " [0.0 0.0 1.0 27.0 48000.0]\n",
            " [0.0 1.0 0.0 30.0 54000.0]\n",
            " [0.0 0.0 1.0 38.0 61000.0]\n",
            " [0.0 1.0 0.0 40.0 61000.0]\n",
            " [1.0 0.0 0.0 35.0 58000.0]\n",
            " [0.0 0.0 1.0 39.166666666666664 52000.0]\n",
            " [1.0 0.0 0.0 48.0 79000.0]\n",
            " [0.0 1.0 0.0 50.0 83000.0]\n",
            " [1.0 0.0 0.0 37.0 67000.0]\n",
            " [1.0 0.0 0.0 45.0 92000.0]\n",
            " [0.0 0.0 1.0 30.0 60000.0]\n",
            " [0.0 1.0 0.0 20.0 64000.0]\n",
            " [0.0 0.0 1.0 28.0 51000.0]\n",
            " [0.0 1.0 0.0 40.0 61000.0]\n",
            " [1.0 0.0 0.0 35.0 68000.0]\n",
            " [0.0 0.0 1.0 39.166666666666664 22000.0]\n",
            " [1.0 0.0 0.0 58.0 67000.0]\n",
            " [0.0 1.0 0.0 50.0 53000.0]\n",
            " [1.0 0.0 0.0 50.0 47000.0]]\n"
          ]
        }
      ]
    },
    {
      "cell_type": "markdown",
      "source": [
        "- run sekali matriks orde 3 kalo kedua orde 4"
      ],
      "metadata": {
        "id": "KBtOBOpODHSk"
      }
    },
    {
      "cell_type": "code",
      "source": [
        "from sklearn.preprocessing import LabelEncoder\n",
        "le = LabelEncoder()\n",
        "y = le.fit_transform(y)"
      ],
      "metadata": {
        "id": "bx1X19CoDN8N"
      },
      "execution_count": 9,
      "outputs": []
    },
    {
      "cell_type": "markdown",
      "source": [
        "- menimpa noyes menjadi 0101"
      ],
      "metadata": {
        "id": "PmdQARXIDgEC"
      }
    },
    {
      "cell_type": "code",
      "source": [
        "print(y)"
      ],
      "metadata": {
        "colab": {
          "base_uri": "https://localhost:8080/"
        },
        "id": "cQRMnTo8DuQE",
        "outputId": "f8a59388-9705-4efe-e1ab-c88d526c1999"
      },
      "execution_count": 10,
      "outputs": [
        {
          "output_type": "stream",
          "name": "stdout",
          "text": [
            "[0 1 0 0 1 1 0 1 0 1 1 1 1 0 1 0 0 1 1 0]\n"
          ]
        }
      ]
    },
    {
      "cell_type": "code",
      "source": [
        "from sklearn.model_selection import train_test_split\n",
        "x_train, x_test, y_train, y_test = train_test_split(x, y, test_size=0.2, random_state=1)"
      ],
      "metadata": {
        "id": "DsIyn24FD6vQ"
      },
      "execution_count": 11,
      "outputs": []
    },
    {
      "cell_type": "markdown",
      "source": [
        "- testing 20% training sisanya"
      ],
      "metadata": {
        "id": "0npqQnZGEkMh"
      }
    },
    {
      "cell_type": "code",
      "source": [
        "print(x_train)"
      ],
      "metadata": {
        "colab": {
          "base_uri": "https://localhost:8080/"
        },
        "id": "no2GrRnnFCA-",
        "outputId": "c19c0b4b-4641-47fc-a3ae-ad73e9741cae"
      },
      "execution_count": 12,
      "outputs": [
        {
          "output_type": "stream",
          "name": "stdout",
          "text": [
            "[[0.0 1.0 0.0 30.0 54000.0]\n",
            " [0.0 1.0 0.0 40.0 61000.0]\n",
            " [0.0 1.0 0.0 40.0 61000.0]\n",
            " [1.0 0.0 0.0 58.0 67000.0]\n",
            " [1.0 0.0 0.0 48.0 79000.0]\n",
            " [0.0 0.0 1.0 27.0 48000.0]\n",
            " [0.0 0.0 1.0 28.0 51000.0]\n",
            " [1.0 0.0 0.0 44.0 72000.0]\n",
            " [1.0 0.0 0.0 50.0 47000.0]\n",
            " [0.0 1.0 0.0 50.0 53000.0]\n",
            " [1.0 0.0 0.0 37.0 67000.0]\n",
            " [1.0 0.0 0.0 35.0 68000.0]\n",
            " [0.0 1.0 0.0 50.0 83000.0]\n",
            " [0.0 1.0 0.0 20.0 64000.0]\n",
            " [0.0 0.0 1.0 30.0 60000.0]\n",
            " [1.0 0.0 0.0 35.0 58000.0]]\n"
          ]
        }
      ]
    },
    {
      "cell_type": "code",
      "source": [
        "print(x_test)"
      ],
      "metadata": {
        "colab": {
          "base_uri": "https://localhost:8080/"
        },
        "id": "Mmis1axZFSo1",
        "outputId": "21c454a0-0b6d-4875-e22d-0233bd2d9e2d"
      },
      "execution_count": 13,
      "outputs": [
        {
          "output_type": "stream",
          "name": "stdout",
          "text": [
            "[[0.0 0.0 1.0 38.0 61000.0]\n",
            " [0.0 0.0 1.0 39.166666666666664 22000.0]\n",
            " [0.0 0.0 1.0 39.166666666666664 52000.0]\n",
            " [1.0 0.0 0.0 45.0 92000.0]]\n"
          ]
        }
      ]
    },
    {
      "cell_type": "code",
      "source": [
        "print(y_train)"
      ],
      "metadata": {
        "colab": {
          "base_uri": "https://localhost:8080/"
        },
        "id": "vKT5escaFYKQ",
        "outputId": "16050ecd-33ae-4ec0-eb4b-a8b12414a3b4"
      },
      "execution_count": 14,
      "outputs": [
        {
          "output_type": "stream",
          "name": "stdout",
          "text": [
            "[0 1 1 1 1 1 0 0 0 1 1 0 0 1 1 1]\n"
          ]
        }
      ]
    },
    {
      "cell_type": "code",
      "source": [
        "print(y_test)"
      ],
      "metadata": {
        "colab": {
          "base_uri": "https://localhost:8080/"
        },
        "id": "6pRG-HB7Fb9X",
        "outputId": "caf45d1e-401e-41ec-974c-96a80c493b88"
      },
      "execution_count": 15,
      "outputs": [
        {
          "output_type": "stream",
          "name": "stdout",
          "text": [
            "[0 0 0 1]\n"
          ]
        }
      ]
    },
    {
      "cell_type": "code",
      "source": [
        "from sklearn.preprocessing import StandardScaler\n",
        "sc = StandardScaler()\n",
        "x_train[:, 3:] = sc.fit_transform(x_train[:, 3:])\n",
        "x_test[:, 3:] = sc.transform(x_test[:, 3:])"
      ],
      "metadata": {
        "id": "am1GeZ7vFuuA"
      },
      "execution_count": 16,
      "outputs": []
    },
    {
      "cell_type": "code",
      "source": [
        "print(x_train)"
      ],
      "metadata": {
        "colab": {
          "base_uri": "https://localhost:8080/"
        },
        "id": "OGZuwt05GSzT",
        "outputId": "793af4c6-2a16-4dac-9c53-baadd877716a"
      },
      "execution_count": 17,
      "outputs": [
        {
          "output_type": "stream",
          "name": "stdout",
          "text": [
            "[[0.0 1.0 0.0 -0.8724307635068188 -0.7990565361023025]\n",
            " [0.0 1.0 0.0 0.11058981509241365 -0.10530202413751273]\n",
            " [0.0 1.0 0.0 0.11058981509241365 -0.10530202413751273]\n",
            " [1.0 0.0 0.0 1.880026856571032 0.4893447004037356]\n",
            " [1.0 0.0 0.0 0.8970062779717997 1.6786381494862324]\n",
            " [0.0 0.0 1.0 -1.1673369370865885 -1.3937032606435509]\n",
            " [0.0 0.0 1.0 -1.0690348792266653 -1.0963798983729267]\n",
            " [1.0 0.0 0.0 0.5037980465321067 0.9848836375214426]\n",
            " [1.0 0.0 0.0 1.0936103936916461 -1.4928110480670922]\n",
            " [0.0 1.0 0.0 1.0936103936916461 -0.8981643235258439]\n",
            " [1.0 0.0 0.0 -0.18431635848735609 0.4893447004037356]\n",
            " [1.0 0.0 0.0 -0.3809204742072026 0.588452487827277]\n",
            " [0.0 1.0 0.0 1.0936103936916461 2.075069299180398]\n",
            " [0.0 1.0 0.0 -1.8554513421060512 0.19202133813311145]\n",
            " [0.0 0.0 1.0 -0.8724307635068188 -0.20440981156105412]\n",
            " [1.0 0.0 0.0 -0.3809204742072026 -0.40262538640813694]]\n"
          ]
        }
      ]
    },
    {
      "cell_type": "markdown",
      "source": [
        "- mengubah skala besar"
      ],
      "metadata": {
        "id": "b1Cxs8wlF4c_"
      }
    },
    {
      "cell_type": "code",
      "source": [
        "print(x_test)"
      ],
      "metadata": {
        "colab": {
          "base_uri": "https://localhost:8080/"
        },
        "id": "n1T8D_uyG97a",
        "outputId": "4b9eee16-64e7-4b62-b381-c95e7af94524"
      },
      "execution_count": 18,
      "outputs": [
        {
          "output_type": "stream",
          "name": "stdout",
          "text": [
            "[[0.0 0.0 1.0 -0.08601430062743284 -0.10530202413751273]\n",
            " [0.0 0.0 1.0 0.028671433542477382 -3.970505733655627]\n",
            " [0.0 0.0 1.0 0.028671433542477382 -0.9972721109493853]\n",
            " [1.0 0.0 0.0 0.6021001043920299 2.9670393859922704]]\n"
          ]
        }
      ]
    }
  ]
}